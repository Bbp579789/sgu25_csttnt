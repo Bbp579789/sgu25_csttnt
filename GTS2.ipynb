{
 "cells": [
  {
   "cell_type": "markdown",
   "id": "d7e583ea",
   "metadata": {},
   "source": [
    "#  👤 Thông tin cá nhân\n",
    "## Họ tên: Nguyễn Đăng Phúc\n",
    "## MSSV: 3123410275"
   ]
  },
  {
   "cell_type": "markdown",
   "id": "88e83315",
   "metadata": {},
   "source": [
    "# ~~~~~~~~~~~~~~~~~ GTS2 ~~~~~~~~~~~~~~~~~~"
   ]
  },
  {
   "cell_type": "markdown",
   "id": "e0fc9e7b",
   "metadata": {},
   "source": [
    " # 🎯 Giới thiệu"
   ]
  },
  {
   "cell_type": "markdown",
   "id": "ac89e6ce",
   "metadata": {},
   "source": [
    "## Bài toán: Tìm chu trình Hamilton tối ưu (GTS1 và GTS2)\n",
    "\n",
    "Bài toán yêu cầu tìm một chu trình đi qua tất cả các đỉnh đúng một lần và quay về điểm xuất phát sao cho tổng chi phí là nhỏ nhất. Ta sử dụng hai thuật toán:\n",
    "- **GTS1**: Tham lam, bắt đầu từ một đỉnh và luôn chọn đỉnh gần nhất tiếp theo.\n",
    "- **GTS2**: Chạy GTS1 cho nhiều điểm xuất phát khác nhau, chọn lộ trình tốt nhất.\n",
    "\n",
    "Input được đọc từ file theo cấu trúc:\n"
   ]
  },
  {
   "cell_type": "markdown",
   "id": "dcd3c3f9",
   "metadata": {},
   "source": [
    "n p                                                                                                                                   \n",
    "\n",
    "a1 a2 ... ap\n",
    "\n",
    "ma trận chi phí c[i][j] (n dòng, mỗi dòng n số)"
   ]
  },
  {
   "cell_type": "markdown",
   "id": "39e77de6",
   "metadata": {},
   "source": [
    "\n",
    "Trong đó:\n",
    "- `n`: số đỉnh.\n",
    "- `p`: số điểm bắt đầu cần thử.\n",
    "- `a1..ap`: danh sách các đỉnh bắt đầu.\n",
    "- `c[i][j]`: chi phí đi từ đỉnh i đến j.\n"
   ]
  },
  {
   "cell_type": "markdown",
   "id": "633c8a37",
   "metadata": {},
   "source": [
    " # 🎯 Code"
   ]
  },
  {
   "cell_type": "markdown",
   "id": "3881cba6",
   "metadata": {},
   "source": [
    "## Cài đặt thuật toán"
   ]
  },
  {
   "cell_type": "code",
   "execution_count": 1,
   "id": "b8c6d350",
   "metadata": {},
   "outputs": [],
   "source": [
    "import sys\n",
    "\n",
    "MAXN = 2000\n",
    "oo = int(1e9)\n",
    "\n",
    "# Biến toàn cục\n",
    "n = 0\n",
    "p = 0\n",
    "bestcost = oo\n",
    "a = [0] * MAXN\n",
    "cost = 0\n",
    "c = [[0] * MAXN for _ in range(MAXN)]\n",
    "visited = [0] * MAXN\n",
    "besttour = []\n",
    "tour = []\n"
   ]
  },
  {
   "cell_type": "markdown",
   "id": "8c92c1d3",
   "metadata": {},
   "source": [
    "## Thuật toán GTS1 và GTS2"
   ]
  },
  {
   "cell_type": "code",
   "execution_count": 5,
   "id": "36ca792d",
   "metadata": {},
   "outputs": [],
   "source": [
    "def GTS1(u):\n",
    "    global cost, tour\n",
    "    tour = []\n",
    "    cost = 0\n",
    "    visited[:] = [0] * MAXN\n",
    "\n",
    "    v = u\n",
    "    tour.append(v)\n",
    "    visited[v] = 1\n",
    "\n",
    "    for _ in range(n - 1):\n",
    "        MIN = oo\n",
    "        w = -1\n",
    "        for j in range(1, n + 1):\n",
    "            if not visited[j] and c[v][j] < MIN:\n",
    "                MIN = c[v][j]\n",
    "                w = j\n",
    "        cost += MIN\n",
    "        tour.append(w)\n",
    "        visited[w] = 1\n",
    "        v = w\n",
    "\n",
    "    tour.append(u)\n",
    "    cost += c[v][u]\n",
    "\n",
    "def GTS2():\n",
    "    global bestcost, besttour\n",
    "    for i in range(1, p + 1):\n",
    "        GTS1(a[i])\n",
    "        if cost < bestcost:\n",
    "            bestcost = cost\n",
    "            besttour = tour[:]\n",
    "\n"
   ]
  },
  {
   "cell_type": "markdown",
   "id": "57346625",
   "metadata": {},
   "source": [
    "## Đọc dữ liệu từ file"
   ]
  },
  {
   "cell_type": "code",
   "execution_count": 3,
   "id": "d14912e7",
   "metadata": {},
   "outputs": [],
   "source": [
    "def read_input(filename):\n",
    "    global n, p, a, c\n",
    "    try:\n",
    "        with open(filename, 'r') as f:\n",
    "            n, p = map(int, f.readline().split())\n",
    "            a = [0] + list(map(int, f.readline().split()))  # chỉ số 1-based\n",
    "\n",
    "            for i in range(1, n + 1):\n",
    "                line = list(map(int, f.readline().split()))\n",
    "                for j in range(1, n + 1):\n",
    "                    c[i][j] = line[j - 1]\n",
    "    except FileNotFoundError:\n",
    "        print(\"Không thể mở file input!\")\n",
    "        sys.exit(1)\n",
    "\n",
    "    for i in range(1, n + 1):\n",
    "        c[i][i] = oo  # Không được đi từ i -> i\n"
   ]
  },
  {
   "cell_type": "markdown",
   "id": "774a6919",
   "metadata": {},
   "source": [
    "## Chạy thuật toán và in kết quả\n"
   ]
  },
  {
   "cell_type": "code",
   "execution_count": 6,
   "id": "1ee24922",
   "metadata": {},
   "outputs": [
    {
     "name": "stdout",
     "output_type": "stream",
     "text": [
      "Chi phí tốt nhất: 97\n",
      "Lộ trình tốt nhất: [1, 2, 3, 4, 1]\n"
     ]
    }
   ],
   "source": [
    "read_input(\"GTS2.txt\")\n",
    "GTS2()\n",
    "print(\"Chi phí tốt nhất:\", bestcost)\n",
    "print(\"Lộ trình tốt nhất:\", besttour)\n"
   ]
  },
  {
   "cell_type": "markdown",
   "id": "60edd75b",
   "metadata": {},
   "source": [
    "# 🏁 Kết thúc"
   ]
  }
 ],
 "metadata": {
  "kernelspec": {
   "display_name": "Python 3",
   "language": "python",
   "name": "python3"
  },
  "language_info": {
   "codemirror_mode": {
    "name": "ipython",
    "version": 3
   },
   "file_extension": ".py",
   "mimetype": "text/x-python",
   "name": "python",
   "nbconvert_exporter": "python",
   "pygments_lexer": "ipython3",
   "version": "3.11.9"
  }
 },
 "nbformat": 4,
 "nbformat_minor": 5
}
