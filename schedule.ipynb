{
 "cells": [
  {
   "cell_type": "markdown",
   "id": "8a995e4d",
   "metadata": {},
   "source": [
    "#  👤 Thông tin cá nhân\n",
    "## Họ tên: Nguyễn Đăng Phúc\n",
    "## MSSV: 3123410275"
   ]
  },
  {
   "cell_type": "markdown",
   "id": "a4c4119c",
   "metadata": {},
   "source": [
    "# ~~~~~~~~~~~~~~~~~ Schedule ~~~~~~~~~~~~~~~~~"
   ]
  },
  {
   "cell_type": "markdown",
   "id": "58993c1d",
   "metadata": {},
   "source": [
    " # 🎯 Giới thiệu"
   ]
  },
  {
   "cell_type": "markdown",
   "id": "b08ce351",
   "metadata": {},
   "source": [
    "Mục tiêu:\n",
    "Phân bổ n công việc có thời gian xử lý khác nhau cho 3 máy, sao cho thời gian hoàn thành (makespan) là nhỏ nhất.\n",
    "\n",
    "   Ý tưởng:\n",
    "Sắp xếp các công việc theo thời gian giảm dần (giống thuật toán Greedy - LPT: Longest Processing Time First).\n",
    "\n",
    "Sử dụng hàng đợi ưu tiên (heap) để luôn gán công việc tiếp theo cho máy đang rảnh nhất"
   ]
  },
  {
   "cell_type": "markdown",
   "id": "d2d142fa",
   "metadata": {},
   "source": [
    " # 🎯 Code"
   ]
  },
  {
   "cell_type": "markdown",
   "id": "5aa6947a",
   "metadata": {},
   "source": [
    "Nhập thư viện"
   ]
  },
  {
   "cell_type": "code",
   "execution_count": 5,
   "id": "ac3f5864",
   "metadata": {},
   "outputs": [],
   "source": [
    "import heapq\n"
   ]
  },
  {
   "cell_type": "markdown",
   "id": "0fea4255",
   "metadata": {},
   "source": [
    "Đọc file dữ liệu"
   ]
  },
  {
   "cell_type": "code",
   "execution_count": 1,
   "id": "f50a2f0c",
   "metadata": {},
   "outputs": [],
   "source": [
    "def doc_du_lieu(filename):\n",
    "    try:\n",
    "        with open(filename, \"r\") as file:\n",
    "            n = int(file.readline())\n",
    "            tasks = list(map(int, file.readline().split()))\n",
    "            return tasks\n",
    "    except Exception as e:\n",
    "        print(\"Lỗi khi đọc file:\", e)\n",
    "        return []\n"
   ]
  },
  {
   "cell_type": "markdown",
   "id": "c3165f03",
   "metadata": {},
   "source": [
    "Hàm lập lịch công việc"
   ]
  },
  {
   "cell_type": "code",
   "execution_count": 2,
   "id": "62b977df",
   "metadata": {},
   "outputs": [],
   "source": [
    "def lap_lich_3_may(tasks):\n",
    "    if not tasks:\n",
    "        return 0\n",
    "\n",
    "    tasks.sort(reverse=True)  # LPT: Sắp xếp công việc giảm dần\n",
    "    machines = [0, 0, 0]  # 3 máy ban đầu rảnh\n",
    "    heapq.heapify(machines)\n",
    "\n",
    "    for task in tasks:\n",
    "        min_load = heapq.heappop(machines)  # Máy rảnh nhất\n",
    "        heapq.heappush(machines, min_load + task)\n",
    "\n",
    "    return max(machines)\n"
   ]
  },
  {
   "cell_type": "markdown",
   "id": "03654d8e",
   "metadata": {},
   "source": [
    "Gọi chương trình chính"
   ]
  },
  {
   "cell_type": "code",
   "execution_count": 6,
   "id": "ec9b9876",
   "metadata": {},
   "outputs": [
    {
     "name": "stdout",
     "output_type": "stream",
     "text": [
      "Thời gian hoàn thành: 8\n"
     ]
    }
   ],
   "source": [
    "tasks = doc_du_lieu(\"schedule.txt\")\n",
    "tong_thoi_gian = lap_lich_3_may(tasks)\n",
    "print(\"Thời gian hoàn thành:\", tong_thoi_gian)\n"
   ]
  },
  {
   "cell_type": "markdown",
   "id": "037050c6",
   "metadata": {},
   "source": [
    " # 🎯 Kết thúc"
   ]
  }
 ],
 "metadata": {
  "kernelspec": {
   "display_name": "Python 3",
   "language": "python",
   "name": "python3"
  },
  "language_info": {
   "codemirror_mode": {
    "name": "ipython",
    "version": 3
   },
   "file_extension": ".py",
   "mimetype": "text/x-python",
   "name": "python",
   "nbconvert_exporter": "python",
   "pygments_lexer": "ipython3",
   "version": "3.11.9"
  }
 },
 "nbformat": 4,
 "nbformat_minor": 5
}
