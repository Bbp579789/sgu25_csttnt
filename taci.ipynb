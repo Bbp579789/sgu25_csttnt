{
 "cells": [
  {
   "cell_type": "markdown",
   "id": "75a768c8",
   "metadata": {},
   "source": [
    "#  👤 Thông tin cá nhân\n",
    "## Họ tên: Nguyễn Đăng Phúc\n",
    "## MSSV: 3123410275\n"
   ]
  },
  {
   "cell_type": "markdown",
   "id": "edd7b04f",
   "metadata": {},
   "source": [
    "# ~~~~~~~~~~~~~~~~~ 8Puzzle ~~~~~~~~~~~~~~~~~"
   ]
  },
  {
   "cell_type": "markdown",
   "id": "282d1745",
   "metadata": {},
   "source": [
    " # 🎯 Giới thiệu"
   ]
  },
  {
   "cell_type": "markdown",
   "id": "e41aa1ad",
   "metadata": {},
   "source": [
    "##  Tính hàm heuristic cho bài toán xếp ô số (8 puzzle)\n",
    "\n",
    "Ta sử dụng hai hàm heuristic:\n",
    "- `h1`: Số ô sai vị trí.\n",
    "- `h2`: Tổng khoảng cách Manhattan từ vị trí hiện tại đến vị trí đích.\n",
    "\n",
    "📁 Dữ liệu đọc từ file `taci.txt` theo cấu trúc:\n",
    "- Dòng 1: Kích thước ma trận `n`.\n",
    "- `n` dòng tiếp: Trạng thái bắt đầu.\n",
    "- `n` dòng cuối: Trạng thái đích.\n"
   ]
  },
  {
   "cell_type": "markdown",
   "id": "686d6319",
   "metadata": {},
   "source": [
    "# 🎯 Code"
   ]
  },
  {
   "cell_type": "markdown",
   "id": "bffcd070",
   "metadata": {},
   "source": [
    "## 1. Định nghĩa hàm"
   ]
  },
  {
   "cell_type": "code",
   "execution_count": null,
   "id": "59c02584",
   "metadata": {},
   "outputs": [],
   "source": [
    "def h1(a, b, n):\n",
    "    d = 0\n",
    "    for i in range(n):\n",
    "        for j in range(n):\n",
    "            if a[i][j] != 0 and a[i][j] != b[i][j]:\n",
    "                d += 1\n",
    "    return d\n",
    "\n",
    "def timvitri(a, b, n, i, j):\n",
    "    for k in range(n):\n",
    "        for l in range(n):\n",
    "            if a[i][j] == b[k][l]:\n",
    "                return k, l\n",
    "    return -1, -1  # fallback\n",
    "\n",
    "def h2(a, b, n):\n",
    "    s = 0\n",
    "    for i in range(n):\n",
    "        for j in range(n):\n",
    "            if a[i][j] != 0:\n",
    "                x, y = timvitri(a, b, n, i, j)\n",
    "                s += abs(x - i) + abs(y - j)\n",
    "    return s\n"
   ]
  },
  {
   "cell_type": "markdown",
   "id": "dfa3737a",
   "metadata": {},
   "source": [
    "## 2 Đọc file và in kết quả"
   ]
  },
  {
   "cell_type": "code",
   "execution_count": 5,
   "id": "ce3bc6c4",
   "metadata": {},
   "outputs": [
    {
     "name": "stdout",
     "output_type": "stream",
     "text": [
      "📐 Kích thước ma trận: 3\n",
      "🟩 Trạng thái bắt đầu:\n",
      "  [6, 1, 7]\n",
      "  [4, 8, 3]\n",
      "  [2, 5, 0]\n",
      "🟥 Trạng thái đích:\n",
      "  [1, 6, 2]\n",
      "  [3, 5, 4]\n",
      "  [0, 8, 7]\n",
      "\n",
      "📊 Kết quả heuristic:\n",
      "🔸 h1 (số ô sai vị trí): 8\n",
      "🔸 h2 (Manhattan): 14\n"
     ]
    }
   ],
   "source": [
    "def main():\n",
    "    try:\n",
    "        with open(\"taci.txt\", \"r\") as file:\n",
    "            n = int(file.readline())\n",
    "            a = [list(map(int, file.readline().split())) for _ in range(n)]\n",
    "            b = [list(map(int, file.readline().split())) for _ in range(n)]\n",
    "    except Exception as e:\n",
    "        print(\"❌ Không mở được file hoặc lỗi đọc dữ liệu:\", e)\n",
    "        return\n",
    "\n",
    "    print(\"📐 Kích thước ma trận:\", n)\n",
    "    print(\"🟩 Trạng thái bắt đầu:\")\n",
    "    for row in a:\n",
    "        print(\" \", row)\n",
    "\n",
    "    print(\"🟥 Trạng thái đích:\")\n",
    "    for row in b:\n",
    "        print(\" \", row)\n",
    "\n",
    "    print(\"\\n📊 Kết quả heuristic:\")\n",
    "    print(\"🔸 h1 (số ô sai vị trí):\", h1(a, b, n))\n",
    "    print(\"🔸 h2 (Manhattan):\", h2(a, b, n))\n",
    "\n",
    "main()\n"
   ]
  },
  {
   "cell_type": "markdown",
   "id": "327a59f3",
   "metadata": {},
   "source": [
    "# 🎯 Ghi chú"
   ]
  },
  {
   "cell_type": "markdown",
   "id": "faabbf0f",
   "metadata": {},
   "source": [
    "File taci.txt nằm trong cùng thư mục với file taci.ipynb để chay chương trình"
   ]
  },
  {
   "cell_type": "markdown",
   "id": "4c84a98b",
   "metadata": {},
   "source": [
    "# 🏁 Kết thúc"
   ]
  }
 ],
 "metadata": {
  "kernelspec": {
   "display_name": "Python 3",
   "language": "python",
   "name": "python3"
  },
  "language_info": {
   "codemirror_mode": {
    "name": "ipython",
    "version": 3
   },
   "file_extension": ".py",
   "mimetype": "text/x-python",
   "name": "python",
   "nbconvert_exporter": "python",
   "pygments_lexer": "ipython3",
   "version": "3.11.9"
  }
 },
 "nbformat": 4,
 "nbformat_minor": 5
}
