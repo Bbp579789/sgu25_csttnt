{
 "cells": [
  {
   "cell_type": "markdown",
   "id": "d2a21978",
   "metadata": {},
   "source": [
    "#  👤 Thông tin cá nhân\n",
    "## Họ tên: Nguyễn Đăng Phúc\n",
    "## MSSV: 3123410275"
   ]
  },
  {
   "cell_type": "markdown",
   "id": "57646811",
   "metadata": {},
   "source": [
    "# ~~~~~~~~~~~~~~~ ASSIGNMENT ~~~~~~~~~~~~~~~"
   ]
  },
  {
   "cell_type": "markdown",
   "id": "995177b3",
   "metadata": {},
   "source": [
    "# 🎯 Giới thiệu"
   ]
  },
  {
   "cell_type": "markdown",
   "id": "8f53a63e",
   "metadata": {},
   "source": [
    "    Mô tả: \n",
    "Đọc ma trận chi phí cost[i][j] từ file assignment.txt, với n là số công việc và người.\n",
    "\n",
    "Với mỗi người i, tìm công việc j chưa được gán sao cho chi phí cost[i][j] là nhỏ nhất.\n",
    "\n",
    "Gán công việc đó và cộng vào tổng chi phí.\n",
    "\n"
   ]
  },
  {
   "cell_type": "markdown",
   "id": "ca429612",
   "metadata": {},
   "source": [
    "# 🎯 Code"
   ]
  },
  {
   "cell_type": "markdown",
   "id": "a2812b60",
   "metadata": {},
   "source": [
    "Cài đặt thư viện"
   ]
  },
  {
   "cell_type": "code",
   "execution_count": 3,
   "id": "5259f09b",
   "metadata": {},
   "outputs": [
    {
     "name": "stdout",
     "output_type": "stream",
     "text": [
      "Người 1 nhận công việc 2 với chi phí 2\n",
      "Người 2 nhận công việc 3 với chi phí 3\n",
      "Người 3 nhận công việc 1 với chi phí 5\n",
      "Người 4 nhận công việc 4 với chi phí 4\n",
      "Tổng chi phí: 14\n"
     ]
    }
   ],
   "source": [
    "# Nhập dữ liệu trực tiếp (giống nội dung file assignment.txt)\n",
    "n = 4\n",
    "cost = [\n",
    "    [9, 2, 7, 8],\n",
    "    [6, 4, 3, 7],\n",
    "    [5, 8, 1, 8],\n",
    "    [7, 6, 9, 4]\n",
    "]\n",
    "\n",
    "# Biến đánh dấu công việc đã được phân công\n",
    "job_assigned = [False] * n\n",
    "total_cost = 0\n",
    "assignments = []\n",
    "\n",
    "# Thuật toán Greedy đơn giản\n",
    "for i in range(n):\n",
    "    min_cost = float('inf')\n",
    "    job_index = -1\n",
    "    for j in range(n):\n",
    "        if not job_assigned[j] and cost[i][j] < min_cost:\n",
    "            min_cost = cost[i][j]\n",
    "            job_index = j\n",
    "    if job_index != -1:\n",
    "        job_assigned[job_index] = True\n",
    "        total_cost += min_cost\n",
    "        assignments.append((i + 1, job_index + 1, min_cost))  # +1 để hiển thị từ 1\n",
    "\n",
    "# In kết quả\n",
    "for worker, job, c in assignments:\n",
    "    print(f\"Người {worker} nhận công việc {job} với chi phí {c}\")\n",
    "print(\"Tổng chi phí:\", total_cost)\n"
   ]
  },
  {
   "cell_type": "markdown",
   "id": "5e644a2b",
   "metadata": {},
   "source": [
    "# 🏁 Kết thúc"
   ]
  }
 ],
 "metadata": {
  "kernelspec": {
   "display_name": "Python 3",
   "language": "python",
   "name": "python3"
  },
  "language_info": {
   "codemirror_mode": {
    "name": "ipython",
    "version": 3
   },
   "file_extension": ".py",
   "mimetype": "text/x-python",
   "name": "python",
   "nbconvert_exporter": "python",
   "pygments_lexer": "ipython3",
   "version": "3.11.9"
  }
 },
 "nbformat": 4,
 "nbformat_minor": 5
}
