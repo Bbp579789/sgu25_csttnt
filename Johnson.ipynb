{
 "cells": [
  {
   "cell_type": "markdown",
   "id": "45ace234",
   "metadata": {},
   "source": [
    "#  👤 Thông tin cá nhân\n",
    "## Họ tên: Nguyễn Đăng Phúc\n",
    "## MSSV: 3123410275"
   ]
  },
  {
   "cell_type": "markdown",
   "id": "08024878",
   "metadata": {},
   "source": [
    "# ~~~~~~~~~~~~~~~~~ Johnson ~~~~~~~~~~~~~~~~~"
   ]
  },
  {
   "cell_type": "markdown",
   "id": "1c3610dd",
   "metadata": {},
   "source": [
    " # 🎯 Giới thiệu"
   ]
  },
  {
   "cell_type": "markdown",
   "id": "87af4ded",
   "metadata": {},
   "source": [
    "    Bài toán:\n",
    "Có n công việc.\n",
    "\n",
    "Mỗi công việc phải được thực hiện trên hai máy theo thứ tự: máy 1 ➝ máy 2.\n",
    "\n",
    "Mỗi công việc có:\n",
    "\n",
    "time1[i]: thời gian xử lý trên máy 1.\n",
    "\n",
    "time2[i]: thời gian xử lý trên máy 2.\n",
    "\n",
    "    Mục tiêu:\n",
    "Tìm trình tự thực hiện các công việc sao cho thời gian hoàn thành toàn bộ công việc (makespan) là nhỏ nhất.\n",
    "\n"
   ]
  },
  {
   "cell_type": "markdown",
   "id": "6c6733e8",
   "metadata": {},
   "source": [
    " # 🎯 Code"
   ]
  },
  {
   "cell_type": "markdown",
   "id": "6ef454be",
   "metadata": {},
   "source": [
    "Đọc file dữ liệu"
   ]
  },
  {
   "cell_type": "code",
   "execution_count": 1,
   "id": "820aa680",
   "metadata": {},
   "outputs": [],
   "source": [
    "def read_file(filename):\n",
    "    with open(filename, 'r') as f:\n",
    "        n = int(f.readline())\n",
    "        time1 = list(map(int, f.readline().split()))\n",
    "        time2 = list(map(int, f.readline().split()))\n",
    "    return time1, time2\n"
   ]
  },
  {
   "cell_type": "markdown",
   "id": "0737b718",
   "metadata": {},
   "source": [
    "Thuật toán Johnson"
   ]
  },
  {
   "cell_type": "code",
   "execution_count": 2,
   "id": "edc980c0",
   "metadata": {},
   "outputs": [],
   "source": [
    "def done_time(time1, time2):\n",
    "    n = len(time1)\n",
    "    jobs = list(zip(time1, time2))\n",
    "\n",
    "    N1 = []\n",
    "    N2 = []\n",
    "\n",
    "    for job in jobs:\n",
    "        if job[0] < job[1]:\n",
    "            N1.append(job)\n",
    "        else:\n",
    "            N2.append(job)\n",
    "\n",
    "    N1.sort(key=lambda x: x[0])\n",
    "    N2.sort(key=lambda x: x[1], reverse=True)\n",
    "\n",
    "    sequence = N1 + N2\n",
    "\n",
    "    finish_time1 = 0\n",
    "    finish_time2 = 0\n",
    "\n",
    "    for job in sequence:\n",
    "        finish_time1 += job[0]\n",
    "        finish_time2 = max(finish_time2, finish_time1) + job[1]\n",
    "\n",
    "    return finish_time2\n"
   ]
  },
  {
   "cell_type": "markdown",
   "id": "4a1012bf",
   "metadata": {},
   "source": [
    "Gọi hàm chính và in kết quả"
   ]
  },
  {
   "cell_type": "code",
   "execution_count": 3,
   "id": "1fa6ca5a",
   "metadata": {},
   "outputs": [
    {
     "name": "stdout",
     "output_type": "stream",
     "text": [
      "Thời gian hoàn thành: 60\n"
     ]
    }
   ],
   "source": [
    "filename = \"Johnson.txt\"\n",
    "time1, time2 = read_file(filename)\n",
    "total_time = done_time(time1, time2)\n",
    "print(\"Thời gian hoàn thành:\", total_time)\n"
   ]
  },
  {
   "cell_type": "markdown",
   "id": "c4348258",
   "metadata": {},
   "source": [
    " # 🎯 Kết thúc"
   ]
  }
 ],
 "metadata": {
  "kernelspec": {
   "display_name": "Python 3",
   "language": "python",
   "name": "python3"
  },
  "language_info": {
   "codemirror_mode": {
    "name": "ipython",
    "version": 3
   },
   "file_extension": ".py",
   "mimetype": "text/x-python",
   "name": "python",
   "nbconvert_exporter": "python",
   "pygments_lexer": "ipython3",
   "version": "3.11.9"
  }
 },
 "nbformat": 4,
 "nbformat_minor": 5
}
