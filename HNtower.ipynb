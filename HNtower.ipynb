{
 "cells": [
  {
   "cell_type": "markdown",
   "id": "3b3c3ecc",
   "metadata": {},
   "source": [
    "#  👤 Thông tin cá nhân\n",
    "## Họ tên: Nguyễn Đăng Phúc\n",
    "## MSSV: 3123410275"
   ]
  },
  {
   "cell_type": "markdown",
   "id": "90d205b9",
   "metadata": {},
   "source": [
    "# ~~~~~~~~~~~~~~~~~ HNtower ~~~~~~~~~~~~~~~~~"
   ]
  },
  {
   "cell_type": "markdown",
   "id": "6d317e88",
   "metadata": {},
   "source": [
    " # 🎯 Giới thiệu"
   ]
  },
  {
   "cell_type": "markdown",
   "id": "a2d8e3b7",
   "metadata": {},
   "source": [
    "Di chuyển toàn bộ n đĩa từ cột nguồn (A) sang cột đích (C) theo các quy tắc sau:\n",
    "\n",
    "Mỗi lần chỉ được di chuyển một đĩa.\n",
    "\n",
    "Không được đặt đĩa lớn lên trên đĩa nhỏ hơn.\n",
    "\n",
    "Có thể sử dụng một cột trung gian (B) để hỗ trợ."
   ]
  },
  {
   "cell_type": "markdown",
   "id": "f7fffdeb",
   "metadata": {},
   "source": [
    "Sử dụng đệ quy để chia bài toán thành các bước nhỏ hơn:\n",
    "\n",
    "Di chuyển n-1 đĩa đầu tiên sang cột phụ.\n",
    "\n",
    "Di chuyển đĩa lớn nhất sang cột đích.\n",
    "\n",
    "Di chuyển n-1 đĩa từ cột phụ sang cột đích.\n",
    "\n"
   ]
  },
  {
   "cell_type": "markdown",
   "id": "8e368d4a",
   "metadata": {},
   "source": [
    " # 🎯 Code"
   ]
  },
  {
   "cell_type": "markdown",
   "id": "9e00a447",
   "metadata": {},
   "source": [
    "Định nghĩa hàm Tower of Hanoi"
   ]
  },
  {
   "cell_type": "code",
   "execution_count": 1,
   "id": "40a5d767",
   "metadata": {},
   "outputs": [],
   "source": [
    "def tower_of_hanoi(n, source, target, auxiliary):\n",
    "    if n == 1:\n",
    "        print(f\"Move disk 1 from {source} to {target}\")\n",
    "        return\n",
    "    # Di chuyển n-1 đĩa từ nguồn sang cột phụ\n",
    "    tower_of_hanoi(n - 1, source, auxiliary, target)\n",
    "    \n",
    "    # Di chuyển đĩa lớn nhất từ nguồn sang đích\n",
    "    print(f\"Move disk {n} from {source} to {target}\")\n",
    "    \n",
    "    # Di chuyển n-1 đĩa từ cột phụ sang đích\n",
    "    tower_of_hanoi(n - 1, auxiliary, target, source)\n"
   ]
  },
  {
   "cell_type": "markdown",
   "id": "5a9da983",
   "metadata": {},
   "source": [
    "Nhập số lượng đĩa và chạy chương trình"
   ]
  },
  {
   "cell_type": "code",
   "execution_count": 2,
   "id": "af15a4cb",
   "metadata": {},
   "outputs": [
    {
     "name": "stdout",
     "output_type": "stream",
     "text": [
      "Move disk 1 from A to C\n",
      "Move disk 2 from A to B\n",
      "Move disk 1 from C to B\n",
      "Move disk 3 from A to C\n",
      "Move disk 1 from B to A\n",
      "Move disk 2 from B to C\n",
      "Move disk 1 from A to C\n"
     ]
    }
   ],
   "source": [
    "# Nhập số lượng đĩa\n",
    "n = int(input(\"Enter the number of disks: \"))\n",
    "tower_of_hanoi(n, 'A', 'C', 'B')\n"
   ]
  },
  {
   "cell_type": "markdown",
   "id": "39980340",
   "metadata": {},
   "source": [
    " # 🎯 Kết thúc"
   ]
  }
 ],
 "metadata": {
  "kernelspec": {
   "display_name": "Python 3",
   "language": "python",
   "name": "python3"
  },
  "language_info": {
   "codemirror_mode": {
    "name": "ipython",
    "version": 3
   },
   "file_extension": ".py",
   "mimetype": "text/x-python",
   "name": "python",
   "nbconvert_exporter": "python",
   "pygments_lexer": "ipython3",
   "version": "3.11.9"
  }
 },
 "nbformat": 4,
 "nbformat_minor": 5
}
