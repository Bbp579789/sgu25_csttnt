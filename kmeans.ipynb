{
 "cells": [
  {
   "cell_type": "markdown",
   "id": "172edeb8",
   "metadata": {},
   "source": [
    "#  👤 Thông tin cá nhân\n",
    "## Họ tên: Nguyễn Đăng Phúc\n",
    "## MSSV: 3123410275"
   ]
  },
  {
   "cell_type": "markdown",
   "id": "ea77172b",
   "metadata": {},
   "source": [
    "# ~~~~~~~~~~~~~~~~~ Kmeans ~~~~~~~~~~~~~~~~~"
   ]
  },
  {
   "cell_type": "markdown",
   "id": "fe629d81",
   "metadata": {},
   "source": [
    " # 🎯 Giới thiệu"
   ]
  },
  {
   "cell_type": "markdown",
   "id": "77c094d5",
   "metadata": {},
   "source": [
    "   Mục tiêu:\n",
    "Phân nhóm dữ liệu 2 chiều (tọa độ x, y) thành k = 2 cụm.\n",
    "\n",
    "Dữ liệu được đọc từ file kmeans.txt.\n",
    "\n",
    "   Các bước thuật toán K-Means:\n",
    "Chọn ngẫu nhiên k tâm cụm ban đầu.\n",
    "\n",
    "Gán mỗi điểm vào cụm có khoảng cách gần nhất (theo khoảng cách Euclid).\n",
    "\n",
    "Tính lại tâm cụm bằng trung bình cộng của các điểm thuộc cụm.\n",
    "\n",
    "Lặp lại bước 2–3 đến khi đạt số lần lặp tối đa hoặc hội tụ.\n",
    "\n"
   ]
  },
  {
   "cell_type": "markdown",
   "id": "a2435bb5",
   "metadata": {},
   "source": [
    " # 🎯 Code"
   ]
  },
  {
   "cell_type": "markdown",
   "id": "41eacc7e",
   "metadata": {},
   "source": [
    "Nhập thư viện và định nghĩa lớp"
   ]
  },
  {
   "cell_type": "code",
   "execution_count": 1,
   "id": "28ab19b2",
   "metadata": {},
   "outputs": [],
   "source": [
    "import math\n",
    "\n",
    "class Diem:\n",
    "    def __init__(self, x, y):\n",
    "        self.x = x\n",
    "        self.y = y\n"
   ]
  },
  {
   "cell_type": "markdown",
   "id": "5868894f",
   "metadata": {},
   "source": [
    "Hàm tính khoảng cách Euclid"
   ]
  },
  {
   "cell_type": "code",
   "execution_count": 2,
   "id": "cf2f371e",
   "metadata": {},
   "outputs": [],
   "source": [
    "def tinh_khoang_cach(a, b):\n",
    "    return math.sqrt((a.x - b.x) ** 2 + (a.y - b.y) ** 2)\n"
   ]
  },
  {
   "cell_type": "markdown",
   "id": "371dfc47",
   "metadata": {},
   "source": [
    "Hàm đọc dữ liệu từ file"
   ]
  },
  {
   "cell_type": "code",
   "execution_count": 3,
   "id": "9621dcde",
   "metadata": {},
   "outputs": [],
   "source": [
    "def doc_du_lieu_tu_file(ten_file):\n",
    "    du_lieu = []\n",
    "    try:\n",
    "        with open(ten_file, 'r') as file:\n",
    "            for line in file:\n",
    "                x, y = map(float, line.split())\n",
    "                du_lieu.append(Diem(x, y))\n",
    "    except FileNotFoundError:\n",
    "        print(f\"Không thể mở file: {ten_file}\")\n",
    "    return du_lieu\n"
   ]
  },
  {
   "cell_type": "markdown",
   "id": "f891327e",
   "metadata": {},
   "source": [
    "Thuật toán K-Means"
   ]
  },
  {
   "cell_type": "code",
   "execution_count": 4,
   "id": "0197cb30",
   "metadata": {},
   "outputs": [],
   "source": [
    "def kMeans(du_lieu, tam_cum, so_lan_lap_toi_da):\n",
    "    for lap in range(so_lan_lap_toi_da):\n",
    "        cum = []\n",
    "\n",
    "        # Gán điểm vào cụm gần nhất\n",
    "        for diem in du_lieu:\n",
    "            tam_gan_nhat = 0\n",
    "            kc_nho_nhat = tinh_khoang_cach(diem, tam_cum[0])\n",
    "            \n",
    "            for j, tam in enumerate(tam_cum[1:], start=1):\n",
    "                kc = tinh_khoang_cach(diem, tam)\n",
    "                if kc < kc_nho_nhat:\n",
    "                    kc_nho_nhat = kc\n",
    "                    tam_gan_nhat = j\n",
    "            cum.append(tam_gan_nhat)\n",
    "\n",
    "        # Tính lại tâm cụm\n",
    "        dem_cum = [0] * len(tam_cum)\n",
    "        tam_moi = [Diem(0, 0) for _ in range(len(tam_cum))]\n",
    "\n",
    "        for i, diem in enumerate(du_lieu):\n",
    "            tam_moi[cum[i]].x += diem.x\n",
    "            tam_moi[cum[i]].y += diem.y\n",
    "            dem_cum[cum[i]] += 1\n",
    "\n",
    "        for i in range(len(tam_cum)):\n",
    "            if dem_cum[i] != 0:\n",
    "                tam_moi[i].x /= dem_cum[i]\n",
    "                tam_moi[i].y /= dem_cum[i]\n",
    "\n",
    "        tam_cum = tam_moi\n",
    "\n",
    "    # In kết quả\n",
    "    ket_qua = [(cum[i], du_lieu[i]) for i in range(len(du_lieu))]\n",
    "    ket_qua.sort(key=lambda x: x[0])\n",
    "\n",
    "    for p in ket_qua:\n",
    "        print(f\"Cụm {p[0] + 1}: ({p[1].x}, {p[1].y})\")\n"
   ]
  },
  {
   "cell_type": "markdown",
   "id": "e82126c5",
   "metadata": {},
   "source": [
    "Chạy chương trình"
   ]
  },
  {
   "cell_type": "code",
   "execution_count": 5,
   "id": "e63c0b72",
   "metadata": {},
   "outputs": [
    {
     "name": "stdout",
     "output_type": "stream",
     "text": [
      "Cụm 1: (5.0, 2.0)\n",
      "Cụm 1: (7.0, 5.0)\n",
      "Cụm 1: (4.0, 2.0)\n",
      "Cụm 1: (8.0, 4.0)\n",
      "Cụm 1: (4.0, 2.0)\n",
      "Cụm 2: (2.0, 3.0)\n",
      "Cụm 2: (2.0, 0.0)\n",
      "Cụm 2: (2.0, 3.0)\n"
     ]
    }
   ],
   "source": [
    "du_lieu = doc_du_lieu_tu_file(\"kmeans.txt\")\n",
    "\n",
    "if len(du_lieu) < 2:\n",
    "    print(\"Không đủ điểm để phân cụm!\")\n",
    "else:\n",
    "    tam_cum = [du_lieu[0], du_lieu[1]]  # Khởi tạo tâm từ 2 điểm đầu\n",
    "    kMeans(du_lieu, tam_cum, 10)\n"
   ]
  },
  {
   "cell_type": "markdown",
   "id": "f42f6130",
   "metadata": {},
   "source": [
    " # 🎯 Kết thúc"
   ]
  }
 ],
 "metadata": {
  "kernelspec": {
   "display_name": "Python 3",
   "language": "python",
   "name": "python3"
  },
  "language_info": {
   "codemirror_mode": {
    "name": "ipython",
    "version": 3
   },
   "file_extension": ".py",
   "mimetype": "text/x-python",
   "name": "python",
   "nbconvert_exporter": "python",
   "pygments_lexer": "ipython3",
   "version": "3.11.9"
  }
 },
 "nbformat": 4,
 "nbformat_minor": 5
}
