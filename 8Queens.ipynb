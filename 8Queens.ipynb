{
 "cells": [
  {
   "cell_type": "markdown",
   "id": "57116edc",
   "metadata": {},
   "source": [
    "#  👤 Thông tin cá nhân\n",
    "## Họ tên: Nguyễn Đăng Phúc\n",
    "## MSSV: 3123410275"
   ]
  },
  {
   "cell_type": "markdown",
   "id": "e8efe48f",
   "metadata": {},
   "source": [
    "# ~~~~~~~~~~~~~~~~~ 8Queens ~~~~~~~~~~~~~~~~~"
   ]
  },
  {
   "cell_type": "markdown",
   "id": "8a8af4a0",
   "metadata": {},
   "source": [
    " # 🎯 Giới thiệu"
   ]
  },
  {
   "cell_type": "markdown",
   "id": "d0f4d70e",
   "metadata": {},
   "source": [
    "- Bài toán N quân hậu yêu cầu đặt N quân hậu trên một bàn cờ N×N sao cho không quân hậu nào ăn nhau.\n",
    "\n",
    "\n",
    "        . Không có 2 quân hậu nào trên cùng hàng.\n",
    "\n",
    "       . Không có 2 quân hậu nào trên cùng cột.\n",
    "\n",
    "       . Không có 2 quân hậu nào trên cùng đường chéo."
   ]
  },
  {
   "cell_type": "markdown",
   "id": "8c83733f",
   "metadata": {},
   "source": [
    " # 🎯 Code"
   ]
  },
  {
   "cell_type": "markdown",
   "id": "9f47f9ad",
   "metadata": {},
   "source": [
    "## 1. Hàm kiểm tra vị trí an toàn"
   ]
  },
  {
   "cell_type": "code",
   "execution_count": 1,
   "id": "f4a2e715",
   "metadata": {},
   "outputs": [],
   "source": [
    "def is_safe(board, row, col):\n",
    "    for i in range(row):\n",
    "        if board[i][col] == 1:\n",
    "            return False\n",
    "    for i, j in zip(range(row-1, -1, -1), range(col-1, -1, -1)):\n",
    "        if board[i][j] == 1:\n",
    "            return False\n",
    "    for i, j in zip(range(row-1, -1, -1), range(col+1, len(board))):\n",
    "        if board[i][j] == 1:\n",
    "            return False\n",
    "    return True\n"
   ]
  },
  {
   "cell_type": "markdown",
   "id": "177b2cc8",
   "metadata": {},
   "source": [
    "## 2. Hàm đệ quy giải bài toán"
   ]
  },
  {
   "cell_type": "code",
   "execution_count": 2,
   "id": "d8cfd4f9",
   "metadata": {},
   "outputs": [],
   "source": [
    "def solve_n_queens(board, row, solutions):\n",
    "    n = len(board)\n",
    "    if row == n:\n",
    "        solutions.append([\"\".join(\"Q\" if cell == 1 else \".\" for cell in row) for row in board])\n",
    "        return\n",
    "\n",
    "    for col in range(n):\n",
    "        if is_safe(board, row, col):\n",
    "            board[row][col] = 1\n",
    "            solve_n_queens(board, row + 1, solutions)\n",
    "            board[row][col] = 0  # Quay lui (Backtracking)\n"
   ]
  },
  {
   "cell_type": "markdown",
   "id": "b7353b5f",
   "metadata": {},
   "source": [
    "## 3. Hàm in kết quả"
   ]
  },
  {
   "cell_type": "code",
   "execution_count": 3,
   "id": "eada894e",
   "metadata": {},
   "outputs": [],
   "source": [
    "def print_solutions(solutions):\n",
    "    for idx, solution in enumerate(solutions, 1):\n",
    "        print(f\"🔹 Giải pháp {idx}:\")\n",
    "        for row in solution:\n",
    "            print(\" \".join(row))\n",
    "        print(\"-\" * 20)\n"
   ]
  },
  {
   "cell_type": "markdown",
   "id": "0e779bd5",
   "metadata": {},
   "source": [
    "## 4. Nhập dữ liệu và chạy chương trình"
   ]
  },
  {
   "cell_type": "code",
   "execution_count": 4,
   "id": "269a1d05",
   "metadata": {},
   "outputs": [
    {
     "name": "stdout",
     "output_type": "stream",
     "text": [
      "\n",
      "✅ Có tất cả 2 giải pháp.\n",
      "\n",
      "🔹 Giải pháp 1:\n",
      ". Q . .\n",
      ". . . Q\n",
      "Q . . .\n",
      ". . Q .\n",
      "--------------------\n",
      "🔹 Giải pháp 2:\n",
      ". . Q .\n",
      "Q . . .\n",
      ". . . Q\n",
      ". Q . .\n",
      "--------------------\n"
     ]
    }
   ],
   "source": [
    "# Nhập số lượng quân hậu\n",
    "n = int(input(\"Nhập số lượng quân hậu: \"))\n",
    "board = [[0 for _ in range(n)] for _ in range(n)]\n",
    "solutions = []\n",
    "\n",
    "solve_n_queens(board, 0, solutions)\n",
    "print(f\"\\n✅ Có tất cả {len(solutions)} giải pháp.\\n\")\n",
    "print_solutions(solutions)\n"
   ]
  },
  {
   "cell_type": "markdown",
   "id": "87e01861",
   "metadata": {},
   "source": [
    "# 🏁 Kết thúc"
   ]
  }
 ],
 "metadata": {
  "kernelspec": {
   "display_name": "Python 3",
   "language": "python",
   "name": "python3"
  },
  "language_info": {
   "codemirror_mode": {
    "name": "ipython",
    "version": 3
   },
   "file_extension": ".py",
   "mimetype": "text/x-python",
   "name": "python",
   "nbconvert_exporter": "python",
   "pygments_lexer": "ipython3",
   "version": "3.11.9"
  }
 },
 "nbformat": 4,
 "nbformat_minor": 5
}
