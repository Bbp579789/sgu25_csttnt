{
 "cells": [
  {
   "cell_type": "markdown",
   "id": "abbdd1a4",
   "metadata": {},
   "source": [
    "#  👤 Thông tin cá nhân\n",
    "## Họ tên: Nguyễn Đăng Phúc\n",
    "## MSSV: 3123410275"
   ]
  },
  {
   "cell_type": "markdown",
   "id": "11a27de3",
   "metadata": {},
   "source": [
    "# ~~~~~~~~~~~~~~~ WelshPowell ~~~~~~~~~~~~~~~"
   ]
  },
  {
   "cell_type": "markdown",
   "id": "6899a4dd",
   "metadata": {},
   "source": [
    " # 🎯 Giới thiệu"
   ]
  },
  {
   "cell_type": "markdown",
   "id": "6b6b6856",
   "metadata": {},
   "source": [
    "  Mục tiêu:\n",
    "Gán màu cho các đỉnh của đồ thị sao cho:\n",
    "\n",
    "Hai đỉnh kề nhau không được cùng màu.\n",
    "\n",
    "Sử dụng ít màu nhất có thể.\n",
    "\n"
   ]
  },
  {
   "cell_type": "markdown",
   "id": "cc47e76a",
   "metadata": {},
   "source": [
    " # 🎯 Code"
   ]
  },
  {
   "cell_type": "markdown",
   "id": "59d37219",
   "metadata": {},
   "source": [
    "Định nghĩa lớp và thuật toán"
   ]
  },
  {
   "cell_type": "code",
   "execution_count": 1,
   "id": "4d2863aa",
   "metadata": {},
   "outputs": [],
   "source": [
    "class Vertex:\n",
    "    def __init__(self, vid, degree):\n",
    "        self.id = vid\n",
    "        self.degree = degree\n",
    "\n",
    "def welsh_powell(c, n):\n",
    "    vertices = []\n",
    "    for i in range(n):\n",
    "        degree = sum(c[i])\n",
    "        vertices.append(Vertex(i, degree))\n",
    "\n",
    "    vertices.sort(key=lambda v: v.degree, reverse=True)\n",
    "\n",
    "    colors = [0] * n\n",
    "    color = 1\n",
    "\n",
    "    while True:\n",
    "        all_colored = True\n",
    "        for vertex in vertices:\n",
    "            if colors[vertex.id] == 0:\n",
    "                can_color = True\n",
    "                for i in range(n):\n",
    "                    if c[vertex.id][i] and colors[i] == color:\n",
    "                        can_color = False\n",
    "                        break\n",
    "                if can_color:\n",
    "                    colors[vertex.id] = color\n",
    "                    all_colored = False\n",
    "        if all_colored:\n",
    "            break\n",
    "        color += 1\n",
    "\n",
    "    print(f\"Số màu sử dụng: {color - 1}\")\n",
    "    for i in range(n):\n",
    "        print(f\"Thành phố {i + 1}: Màu {colors[i]}\")\n",
    "    \n",
    "    return color - 1\n"
   ]
  },
  {
   "cell_type": "markdown",
   "id": "3ef127ac",
   "metadata": {},
   "source": [
    " Đọc file và chạy chương trình"
   ]
  },
  {
   "cell_type": "code",
   "execution_count": 2,
   "id": "0464d677",
   "metadata": {},
   "outputs": [
    {
     "name": "stdout",
     "output_type": "stream",
     "text": [
      "Số màu sử dụng: 3\n",
      "Thành phố 1: Màu 1\n",
      "Thành phố 2: Màu 2\n",
      "Thành phố 3: Màu 3\n",
      "Thành phố 4: Màu 2\n",
      "Thành phố 5: Màu 3\n",
      "Thành phố 6: Màu 1\n",
      "Thành phố 7: Màu 3\n",
      "Thành phố 8: Màu 2\n"
     ]
    }
   ],
   "source": [
    "def read_graph(filename):\n",
    "    with open(filename, \"r\") as file:\n",
    "        n = int(file.readline())\n",
    "        c = [list(map(int, file.readline().split())) for _ in range(n)]\n",
    "    return c, n\n",
    "\n",
    "c, n = read_graph(\"color.txt\")\n",
    "num_colors = welsh_powell(c, n)\n"
   ]
  },
  {
   "cell_type": "markdown",
   "id": "f98bec26",
   "metadata": {},
   "source": [
    " # 🎯 Kết thúc"
   ]
  }
 ],
 "metadata": {
  "kernelspec": {
   "display_name": "Python 3",
   "language": "python",
   "name": "python3"
  },
  "language_info": {
   "codemirror_mode": {
    "name": "ipython",
    "version": 3
   },
   "file_extension": ".py",
   "mimetype": "text/x-python",
   "name": "python",
   "nbconvert_exporter": "python",
   "pygments_lexer": "ipython3",
   "version": "3.11.9"
  }
 },
 "nbformat": 4,
 "nbformat_minor": 5
}
