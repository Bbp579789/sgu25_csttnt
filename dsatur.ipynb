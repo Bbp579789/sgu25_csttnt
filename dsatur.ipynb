{
 "cells": [
  {
   "cell_type": "markdown",
   "id": "79a2c316",
   "metadata": {},
   "source": [
    "#  👤 Thông tin cá nhân\n",
    "## Họ tên: Nguyễn Đăng Phúc\n",
    "## MSSV: 3123410275"
   ]
  },
  {
   "cell_type": "markdown",
   "id": "4dcb0661",
   "metadata": {},
   "source": [
    "# ~~~~~~~~~~~~~~~~~ Dsatur ~~~~~~~~~~~~~~~~~"
   ]
  },
  {
   "cell_type": "markdown",
   "id": "861e58f0",
   "metadata": {},
   "source": [
    " # 🎯 Giới thiệu"
   ]
  },
  {
   "cell_type": "markdown",
   "id": "498fcc36",
   "metadata": {},
   "source": [
    "Giải bài toán tô màu đồ thị sao cho:\n",
    "\n",
    "Không có hai đỉnh kề nhau cùng màu.\n",
    "\n",
    "Số lượng màu sử dụng là ít nhất có thể."
   ]
  },
  {
   "cell_type": "markdown",
   "id": "8364ae09",
   "metadata": {},
   "source": [
    " # 🎯 Code"
   ]
  },
  {
   "cell_type": "markdown",
   "id": "091e92ab",
   "metadata": {},
   "source": [
    "Tạo dữ liệu đầu vào"
   ]
  },
  {
   "cell_type": "code",
   "execution_count": 4,
   "id": "51e00f6b",
   "metadata": {},
   "outputs": [],
   "source": [
    "# Ma trận kề mô phỏng từ file \"color.txt\"\n",
    "example_data = \"\"\"5\n",
    "0 1 1 0 0\n",
    "1 0 1 1 0\n",
    "1 1 0 1 1\n",
    "0 1 1 0 1\n",
    "0 0 1 1 0\"\"\"\n"
   ]
  },
  {
   "cell_type": "markdown",
   "id": "93fa1f98",
   "metadata": {},
   "source": [
    " Định nghĩa lớp Vertex và Solution"
   ]
  },
  {
   "cell_type": "code",
   "execution_count": 5,
   "id": "99ff60fb",
   "metadata": {},
   "outputs": [],
   "source": [
    "from io import StringIO\n",
    "\n",
    "class Vertex:\n",
    "    def __init__(self, vid, degree):\n",
    "        self.id = vid\n",
    "        self.degree = degree\n",
    "        self.satur = degree\n",
    "        self.banned_colors = set()\n",
    "\n",
    "class Solution:\n",
    "    def __init__(self, file_like):\n",
    "        self.n = 0\n",
    "        self.c = []\n",
    "        self.read_file(file_like)\n",
    "\n",
    "    def read_file(self, file_like):\n",
    "        lines = file_like.readlines()\n",
    "        self.n = int(lines[0])\n",
    "        self.c = [list(map(int, line.strip().split())) for line in lines[1:]]\n",
    "\n",
    "    def all_vertices_saturated(self, vertices):\n",
    "        return all(v.satur == 0 for v in vertices)\n",
    "\n",
    "    def find_min_available_color(self, vertices, vertex_id):\n",
    "        banned = vertices[vertex_id].banned_colors\n",
    "        color = 1\n",
    "        while color in banned:\n",
    "            color += 1\n",
    "        return color\n",
    "\n",
    "    def prevent_saturate(self, vertices, vertex_id, color):\n",
    "        for i in range(self.n):\n",
    "            if self.c[vertex_id][i] == 1 and vertices[i].satur > 0:\n",
    "                if color not in vertices[i].banned_colors:\n",
    "                    vertices[i].banned_colors.add(color)\n",
    "                    vertices[i].satur -= 1\n",
    "\n",
    "    def color_graph(self):\n",
    "        vertices = []\n",
    "        for i in range(self.n):\n",
    "            degree = sum(self.c[i])\n",
    "            vertices.append(Vertex(i, degree))\n",
    "\n",
    "        colors = [0] * self.n\n",
    "        max_color = 0\n",
    "\n",
    "        while not self.all_vertices_saturated(vertices):\n",
    "            max_satur = -1\n",
    "            vertex_id = -1\n",
    "            for v in vertices:\n",
    "                if colors[v.id] == 0 and v.satur > max_satur:\n",
    "                    max_satur = v.satur\n",
    "                    vertex_id = v.id\n",
    "\n",
    "            color = self.find_min_available_color(vertices, vertex_id)\n",
    "            max_color = max(max_color, color)\n",
    "            self.prevent_saturate(vertices, vertex_id, color)\n",
    "            colors[vertex_id] = color\n",
    "            vertices[vertex_id].satur = 0\n",
    "\n",
    "        # Gán màu còn lại nếu bị bỏ sót\n",
    "        for v in vertices:\n",
    "            if colors[v.id] == 0:\n",
    "                color = self.find_min_available_color(vertices, v.id)\n",
    "                colors[v.id] = color\n",
    "                max_color = max(max_color, color)\n",
    "\n",
    "        print(\"Số màu tối đa cần thiết:\", max_color)\n",
    "        print(\"Màu của từng đỉnh:\", colors)\n"
   ]
  },
  {
   "cell_type": "markdown",
   "id": "248be8d7",
   "metadata": {},
   "source": [
    "Khởi chạy chương trình"
   ]
  },
  {
   "cell_type": "code",
   "execution_count": 7,
   "id": "b695dd9e",
   "metadata": {},
   "outputs": [
    {
     "name": "stdout",
     "output_type": "stream",
     "text": [
      "Số màu tối đa cần thiết: 3\n",
      "Màu của từng đỉnh: [3, 2, 1, 3, 2]\n"
     ]
    }
   ],
   "source": [
    "file_like = StringIO(example_data)\n",
    "sol = Solution(file_like)\n",
    "sol.color_graph()\n"
   ]
  },
  {
   "cell_type": "markdown",
   "id": "c577c9da",
   "metadata": {},
   "source": [
    " # 🎯 Kết thúc"
   ]
  }
 ],
 "metadata": {
  "kernelspec": {
   "display_name": "Python 3",
   "language": "python",
   "name": "python3"
  },
  "language_info": {
   "codemirror_mode": {
    "name": "ipython",
    "version": 3
   },
   "file_extension": ".py",
   "mimetype": "text/x-python",
   "name": "python",
   "nbconvert_exporter": "python",
   "pygments_lexer": "ipython3",
   "version": "3.11.9"
  }
 },
 "nbformat": 4,
 "nbformat_minor": 5
}
