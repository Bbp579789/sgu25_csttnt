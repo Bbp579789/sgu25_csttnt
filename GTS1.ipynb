{
 "cells": [
  {
   "cell_type": "markdown",
   "id": "2b1fa0be",
   "metadata": {},
   "source": [
    "#  👤 Thông tin cá nhân\n",
    "## Họ tên: Nguyễn Đăng Phúc\n",
    "## MSSV: 3123410275"
   ]
  },
  {
   "cell_type": "markdown",
   "id": "e182b12a",
   "metadata": {},
   "source": [
    "# ~~~~~~~~~~~~~~~~~ GTS1 ~~~~~~~~~~~~~~~~~"
   ]
  },
  {
   "cell_type": "markdown",
   "id": "4327c146",
   "metadata": {},
   "source": [
    " # 🎯 Giới thiệu"
   ]
  },
  {
   "cell_type": "markdown",
   "id": "d192e895",
   "metadata": {},
   "source": [
    "## Mô tả bài toán:\n",
    "\n",
    "Có n thành phố được đánh số từ 1 đến n.\n",
    "\n",
    "Một ma trận c[i][j] mô tả chi phí đi từ thành phố i đến thành phố j.\n",
    "\n",
    "Xuất phát từ một thành phố start, chọn đỉnh kế tiếp là đỉnh chưa đi qua có chi phí nhỏ nhất từ vị trí hiện tại.\n",
    "\n",
    "Kết thúc bằng việc quay lại thành phố xuất phát.\n",
    "\n",
    "## Dữ liệu đầu vào (từ file GTS1a.txt):\n",
    "\n",
    "Dòng đầu: n start – số lượng thành phố và chỉ số thành phố xuất phát.\n",
    "\n",
    "n dòng tiếp theo: ma trận chi phí c[i][j].\n",
    "\n",
    "## Thuật toán sử dụng: GTS1 (Greedy TSP)\n",
    "\n",
    "Chọn đỉnh tiếp theo là đỉnh gần nhất chưa đi qua.\n",
    "\n",
    "Lặp lại cho đến khi đi qua tất cả các đỉnh.\n",
    "\n",
    "Quay lại điểm xuất phát để hoàn thành chu trình."
   ]
  },
  {
   "cell_type": "markdown",
   "id": "b8b2cf46",
   "metadata": {},
   "source": [
    " # 🎯 Code"
   ]
  },
  {
   "cell_type": "markdown",
   "id": "e1813246",
   "metadata": {},
   "source": [
    "## Nhập các thư viện và khai báo hằng số"
   ]
  },
  {
   "cell_type": "code",
   "execution_count": 1,
   "id": "4de2cbee",
   "metadata": {},
   "outputs": [],
   "source": [
    "import sys\n",
    "\n",
    "MAXN = 2000\n",
    "oo = int(1e9)\n"
   ]
  },
  {
   "cell_type": "markdown",
   "id": "f932833b",
   "metadata": {},
   "source": [
    "## Đọc dữ liệu từ file"
   ]
  },
  {
   "cell_type": "code",
   "execution_count": 2,
   "id": "f8f4cb4a",
   "metadata": {},
   "outputs": [],
   "source": [
    "# Đọc dữ liệu từ file\n",
    "def read_input(filename):\n",
    "    try:\n",
    "        with open(filename, 'r') as f:\n",
    "            lines = f.readlines()\n",
    "            n, start = map(int, lines[0].split())\n",
    "            c = []\n",
    "            for i in range(1, n + 1):\n",
    "                row = list(map(int, lines[i].split()))\n",
    "                c.append(row)\n",
    "            return n, start, c\n",
    "    except FileNotFoundError:\n",
    "        print(\"Không thể mở file input!\")\n",
    "        return None, None, None\n"
   ]
  },
  {
   "cell_type": "markdown",
   "id": "0ecefe49",
   "metadata": {},
   "source": [
    "## Thuật toán GTS1 "
   ]
  },
  {
   "cell_type": "code",
   "execution_count": 3,
   "id": "40d9ae5f",
   "metadata": {},
   "outputs": [],
   "source": [
    "# Thuật toán GTS1 (Greedy Traveling Salesman)\n",
    "def GTS1(n, start, c):\n",
    "    visited = [False] * n\n",
    "    cost = 0\n",
    "    u = start - 1  # chuyển sang chỉ số Python\n",
    "    v = u\n",
    "    visited[v] = True\n",
    "\n",
    "    for _ in range(n - 1):\n",
    "        MIN = oo\n",
    "        w = -1\n",
    "        for j in range(n):\n",
    "            if not visited[j] and c[v][j] < MIN:\n",
    "                MIN = c[v][j]\n",
    "                w = j\n",
    "        cost += MIN\n",
    "        visited[w] = True\n",
    "        v = w\n",
    "\n",
    "    cost += c[v][u]  # quay lại điểm xuất phát\n",
    "    return cost\n"
   ]
  },
  {
   "cell_type": "markdown",
   "id": "b37d1d06",
   "metadata": {},
   "source": [
    "## Đọc file và chạy chương trình"
   ]
  },
  {
   "cell_type": "code",
   "execution_count": 4,
   "id": "100df562",
   "metadata": {},
   "outputs": [
    {
     "name": "stdout",
     "output_type": "stream",
     "text": [
      "Tổng chi phí: 97\n"
     ]
    }
   ],
   "source": [
    "# Đường dẫn file dữ liệu\n",
    "filename = \"GTS1a.txt\"\n",
    "\n",
    "n, start, c = read_input(filename)\n",
    "\n",
    "if n is not None and start is not None and c is not None:\n",
    "    # Gán chi phí từ i -> i là vô cùng\n",
    "    for i in range(n):\n",
    "        c[i][i] = oo\n",
    "\n",
    "    total_cost = GTS1(n, start, c)\n",
    "    print(\"Tổng chi phí:\", total_cost)\n"
   ]
  },
  {
   "cell_type": "markdown",
   "id": "7f06dd80",
   "metadata": {},
   "source": [
    "# 🏁 Kết thúc"
   ]
  }
 ],
 "metadata": {
  "kernelspec": {
   "display_name": "Python 3",
   "language": "python",
   "name": "python3"
  },
  "language_info": {
   "codemirror_mode": {
    "name": "ipython",
    "version": 3
   },
   "file_extension": ".py",
   "mimetype": "text/x-python",
   "name": "python",
   "nbconvert_exporter": "python",
   "pygments_lexer": "ipython3",
   "version": "3.11.9"
  }
 },
 "nbformat": 4,
 "nbformat_minor": 5
}
