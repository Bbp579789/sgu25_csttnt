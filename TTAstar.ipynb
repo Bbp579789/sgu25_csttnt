{
 "cells": [
  {
   "cell_type": "markdown",
   "id": "e70d8172",
   "metadata": {},
   "source": [
    "#  👤 Thông tin cá nhân\n",
    "## Họ tên: Nguyễn Đăng Phúc\n",
    "## MSSV: 3123410275"
   ]
  },
  {
   "cell_type": "markdown",
   "id": "d2cb571a",
   "metadata": {},
   "source": [
    "# ~~~~~~~~~~~~~~~~~ A STAR ~~~~~~~~~~~~~~~~~"
   ]
  },
  {
   "cell_type": "markdown",
   "id": "a5412b6a",
   "metadata": {},
   "source": [
    " # 🎯 Giới thiệu"
   ]
  },
  {
   "cell_type": "markdown",
   "id": "804e2c3d",
   "metadata": {},
   "source": [
    "    Mục tiêu:\n",
    "Tìm đường đi ngắn nhất từ đỉnh start đến đỉnh end trên đồ thị có trọng số bằng thuật toán A* – một phương pháp heuristic thông minh kết hợp giữa:\n",
    "\n",
    "g(n): Chi phí từ điểm bắt đầu đến điểm hiện tại.\n",
    "\n",
    "h(n): Ước lượng chi phí từ điểm hiện tại đến đích.\n",
    "\n",
    "A* tối ưu hơn Dijkstra trong các bài toán có thể ước lượng tốt khoảng cách còn lại."
   ]
  },
  {
   "cell_type": "markdown",
   "id": "81b44d9a",
   "metadata": {},
   "source": [
    " # 🎯 Code"
   ]
  },
  {
   "cell_type": "markdown",
   "id": "1c88e4bb",
   "metadata": {},
   "source": [
    "Import thư viện và khai báo lớp"
   ]
  },
  {
   "cell_type": "code",
   "execution_count": 1,
   "id": "65c3f107",
   "metadata": {},
   "outputs": [],
   "source": [
    "import heapq\n",
    "\n",
    "oo = float('inf')\n",
    "\n",
    "class Node:\n",
    "    def __init__(self, value, id):\n",
    "        self.value = value\n",
    "        self.id = id\n",
    "\n",
    "    def __lt__(self, other):\n",
    "        return self.value < other.value\n"
   ]
  },
  {
   "cell_type": "markdown",
   "id": "15ca4849",
   "metadata": {},
   "source": [
    "Thuật toán A*\n",
    "\n"
   ]
  },
  {
   "cell_type": "code",
   "execution_count": 2,
   "id": "0a4b7dbd",
   "metadata": {},
   "outputs": [],
   "source": [
    "def solve(n, st, ed, graph, h):\n",
    "    g = [oo] * (n + 1)\n",
    "    f = [oo] * (n + 1)\n",
    "    p = [-1] * (n + 1)\n",
    "    close = set()\n",
    "    open = []\n",
    "\n",
    "    g[st] = 0\n",
    "    f[st] = g[st] + h[st]\n",
    "    heapq.heappush(open, Node(f[st], st))\n",
    "\n",
    "    while open:\n",
    "        curr = heapq.heappop(open).id\n",
    "        if curr in close:\n",
    "            continue\n",
    "        close.add(curr)\n",
    "\n",
    "        if curr == ed:\n",
    "            break\n",
    "\n",
    "        for i in range(1, n + 1):\n",
    "            if graph[curr][i] != oo and i not in close:\n",
    "                if g[i] > g[curr] + graph[curr][i]:\n",
    "                    g[i] = g[curr] + graph[curr][i]\n",
    "                    f[i] = g[i] + h[i]\n",
    "                    p[i] = curr\n",
    "                    heapq.heappush(open, Node(f[i], i))\n",
    "\n",
    "    if g[ed] == oo:\n",
    "        print(\"No path found\")\n",
    "    else:\n",
    "        tour = []\n",
    "        x = ed\n",
    "        while x != -1:\n",
    "            tour.append(x)\n",
    "            x = p[x]\n",
    "        tour.reverse()\n",
    "\n",
    "        print(\"Chi phí ngắn nhất:\", g[ed])\n",
    "        print(\"Số đỉnh trên đường đi:\", len(tour))\n",
    "        print(\"Đường đi:\", ' -> '.join(map(str, tour)))\n"
   ]
  },
  {
   "cell_type": "markdown",
   "id": "65e061cb",
   "metadata": {},
   "source": [
    "Đọc dữ liệu từ file ttastar.txt"
   ]
  },
  {
   "cell_type": "code",
   "execution_count": 3,
   "id": "73a26b23",
   "metadata": {},
   "outputs": [],
   "source": [
    "def doc_du_lieu(filename):\n",
    "    with open(filename, \"r\") as file:\n",
    "        n, m = map(int, file.readline().split())\n",
    "        st, ed = map(int, file.readline().split())\n",
    "\n",
    "        graph = [[oo] * (n + 1) for _ in range(n + 1)]\n",
    "        for _ in range(m):\n",
    "            u, v, w = map(int, file.readline().split())\n",
    "            graph[u][v] = w\n",
    "            graph[v][u] = w\n",
    "\n",
    "        h_line = file.readline().split()\n",
    "        h = [0] * (n + 1)\n",
    "        for i in range(1, n + 1):\n",
    "            h[i] = int(h_line[i - 1])\n",
    "\n",
    "    return n, st, ed, graph, h\n"
   ]
  },
  {
   "cell_type": "markdown",
   "id": "81c34842",
   "metadata": {},
   "source": [
    "Chạy chương trình"
   ]
  },
  {
   "cell_type": "code",
   "execution_count": 4,
   "id": "448c2079",
   "metadata": {},
   "outputs": [
    {
     "name": "stdout",
     "output_type": "stream",
     "text": [
      "Chi phí ngắn nhất: 19\n",
      "Số đỉnh trên đường đi: 5\n",
      "Đường đi: 1 -> 4 -> 5 -> 9 -> 2\n"
     ]
    }
   ],
   "source": [
    "n, st, ed, graph, h = doc_du_lieu(\"ttastar.txt\")\n",
    "solve(n, st, ed, graph, h)\n"
   ]
  },
  {
   "cell_type": "markdown",
   "id": "d7b195ce",
   "metadata": {},
   "source": [
    " # 🎯 Kết thúc"
   ]
  }
 ],
 "metadata": {
  "kernelspec": {
   "display_name": "Python 3",
   "language": "python",
   "name": "python3"
  },
  "language_info": {
   "codemirror_mode": {
    "name": "ipython",
    "version": 3
   },
   "file_extension": ".py",
   "mimetype": "text/x-python",
   "name": "python",
   "nbconvert_exporter": "python",
   "pygments_lexer": "ipython3",
   "version": "3.11.9"
  }
 },
 "nbformat": 4,
 "nbformat_minor": 5
}
